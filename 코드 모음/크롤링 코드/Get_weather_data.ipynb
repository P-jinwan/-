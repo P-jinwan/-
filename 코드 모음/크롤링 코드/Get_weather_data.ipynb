{
 "cells": [
  {
   "cell_type": "code",
   "execution_count": 1,
   "id": "b3f081f4",
   "metadata": {},
   "outputs": [],
   "source": [
    "import time\n",
    "import pandas as pd\n",
    "import openpyxl\n",
    "from selenium import webdriver\n",
    "from selenium.webdriver.common.keys import Keys\n",
    "from tqdm import tqdm"
   ]
  },
  {
   "cell_type": "code",
   "execution_count": 32,
   "id": "dc652015",
   "metadata": {},
   "outputs": [],
   "source": [
    "def GetWeatherData(search_address) :\n",
    "    # 크롬 드라이버를 지정합니다.\n",
    "    driver = webdriver.Chrome(\"./chromedriver\") # 크롬 드라이버 위치를 지정합니다.\n",
    "    driver.implicitly_wait(2)                   # 묵시적 대기, 활성화를 최대 2초까지 기다린다는 의미입니다.\n",
    "\n",
    "    # 브라우저의 시작위치를 지정합니다.\n",
    "    driver.get(\"https://www.naver.com/\") # 기상청 날씨누리\n",
    "\n",
    "    # 검색바에 검색할 위치를 전송하고 검색을 진행합니다.\n",
    "    search = driver.find_element_by_css_selector('#query')     # 검색창 위치를 찾아옵니다.\n",
    "    search.send_keys(search_address + ' 날씨')                 # 검색바에 검색할 단어를 전송합니다.\n",
    "    driver.find_element_by_css_selector('#search_btn').click() # 검색 버튼을 클릭합니다.\n",
    "    time.sleep(1)\n",
    "    \n",
    "    # 날씨 정보를 추출하여 weather 변수에 저장합니다.\n",
    "    weather = driver.find_element_by_css_selector('#main_pack > section.sc_new.cs_weather_new._cs_weather > div._tab_flicking > div.content_wrap > div.open > div:nth-child(1) > div > div.weather_info > div > div.weather_graphic').text\n",
    "    weather = weather.split('\\n')\n",
    "    \n",
    "    # 일몰 시간을 추출하여 sunset 변수에 저장합니다.\n",
    "    sunset = driver.find_element_by_css_selector('#main_pack > section.sc_new.cs_weather_new._cs_weather > div._tab_flicking > div.content_wrap > div.open > div:nth-child(1) > div > div.weather_info > div > div.report_card_wrap > ul > li.item_today.type_sun').text\n",
    "    sunset = sunset.split('\\n')\n",
    "    \n",
    "    # 수집이 끝난 후 브라우저를 닫습니다.\n",
    "    driver.close()\n",
    "    \n",
    "    return weather, sunset"
   ]
  },
  {
   "cell_type": "code",
   "execution_count": 33,
   "id": "42466bd9",
   "metadata": {
    "scrolled": true
   },
   "outputs": [
    {
     "name": "stderr",
     "output_type": "stream",
     "text": [
      "C:\\Users\\HPE\\AppData\\Local\\Temp\\ipykernel_11140\\2001931065.py:3: DeprecationWarning: executable_path has been deprecated, please pass in a Service object\n",
      "  driver = webdriver.Chrome(\"./chromedriver\") # 크롬 드라이버 위치를 지정합니다.\n",
      "C:\\Users\\HPE\\AppData\\Local\\Temp\\ipykernel_11140\\2001931065.py:10: DeprecationWarning: find_element_by_css_selector is deprecated. Please use find_element(by=By.CSS_SELECTOR, value=css_selector) instead\n",
      "  search = driver.find_element_by_css_selector('#query')     # 검색창 위치를 찾아옵니다.\n",
      "C:\\Users\\HPE\\AppData\\Local\\Temp\\ipykernel_11140\\2001931065.py:12: DeprecationWarning: find_element_by_css_selector is deprecated. Please use find_element(by=By.CSS_SELECTOR, value=css_selector) instead\n",
      "  driver.find_element_by_css_selector('#search_btn').click() # 검색 버튼을 클릭합니다.\n",
      "C:\\Users\\HPE\\AppData\\Local\\Temp\\ipykernel_11140\\2001931065.py:16: DeprecationWarning: find_element_by_css_selector is deprecated. Please use find_element(by=By.CSS_SELECTOR, value=css_selector) instead\n",
      "  weather = driver.find_element_by_css_selector('#main_pack > section.sc_new.cs_weather_new._cs_weather > div._tab_flicking > div.content_wrap > div.open > div:nth-child(1) > div > div.weather_info > div > div.weather_graphic').text\n",
      "C:\\Users\\HPE\\AppData\\Local\\Temp\\ipykernel_11140\\2001931065.py:20: DeprecationWarning: find_element_by_css_selector is deprecated. Please use find_element(by=By.CSS_SELECTOR, value=css_selector) instead\n",
      "  sunset = driver.find_element_by_css_selector('#main_pack > section.sc_new.cs_weather_new._cs_weather > div._tab_flicking > div.content_wrap > div.open > div:nth-child(1) > div > div.weather_info > div > div.report_card_wrap > ul > li.item_today.type_sun').text\n"
     ]
    }
   ],
   "source": [
    "a, b = GetWeatherData('애월')"
   ]
  },
  {
   "cell_type": "code",
   "execution_count": 35,
   "id": "244af05e",
   "metadata": {},
   "outputs": [
    {
     "name": "stdout",
     "output_type": "stream",
     "text": [
      "현재 날씨: 맑음\n",
      "현재 온도: 18°\n",
      "['맑음', '현재 온도', '18°']\n",
      "--------\n",
      "일몰 시간: 19:08\n",
      "['일몰', '19:08']\n"
     ]
    }
   ],
   "source": [
    "print('현재 날씨: {}\\n현재 온도: {}'.format(a[0], a[2]))\n",
    "print(a)\n",
    "print('--------')\n",
    "print('일몰 시간: {}'.format(b[1]))\n",
    "print(b)"
   ]
  },
  {
   "cell_type": "code",
   "execution_count": null,
   "id": "f5d091a4",
   "metadata": {},
   "outputs": [],
   "source": []
  }
 ],
 "metadata": {
  "kernelspec": {
   "display_name": "Python 3 (ipykernel)",
   "language": "python",
   "name": "python3"
  },
  "language_info": {
   "codemirror_mode": {
    "name": "ipython",
    "version": 3
   },
   "file_extension": ".py",
   "mimetype": "text/x-python",
   "name": "python",
   "nbconvert_exporter": "python",
   "pygments_lexer": "ipython3",
   "version": "3.9.1"
  }
 },
 "nbformat": 4,
 "nbformat_minor": 5
}
